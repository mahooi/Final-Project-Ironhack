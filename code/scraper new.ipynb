{
 "cells": [
  {
   "cell_type": "code",
   "execution_count": 2,
   "metadata": {},
   "outputs": [],
   "source": [
    "import tweepy\n",
    "import GetOldTweets3 as got\n",
    "import twitterscraper as twit\n",
    "import pandas as pd\n",
    "import requests\n",
    "import json\n",
    "import time"
   ]
  },
  {
   "cell_type": "markdown",
   "metadata": {},
   "source": [
    "## 1.Twitter Authentication\n"
   ]
  },
  {
   "cell_type": "code",
   "execution_count": 2,
   "metadata": {},
   "outputs": [],
   "source": [
    "APIkey= \"DkhEorgjmvqiRRN5LN1tlVw6C\"\n",
    "APIsecret= \"Boqs9QnqOkIGgpqklUNbghwXnDwZqgMjjZPtLnMb3ljXZadIad\"\n",
    "Bearertoken=\"dAAAAAAAAAAAAAAAAAAAAAK%2BjGAEAAAAAmPQmomKgjzTHJxmep4yBdESAwZk%3DEsTadzSWviOpiNBUBGSyoctKPK0aNvcCwyNqoHZawzPazgQmaQ\"\n",
    "Accesstoken=\"1285224050705432578-ZLa0f9VZu07hn9jMN9UQgsLQIYA5br\"\n",
    "Accesssecret=\"tjOH3GyzsHhFpq044EA9aQeaJQvcxC2811Fp2rEJ2tpF2\""
   ]
  },
  {
   "cell_type": "code",
   "execution_count": 3,
   "metadata": {},
   "outputs": [],
   "source": [
    "auth= tweepy.OAuthHandler(APIkey, APIsecret,Bearertoken)\n",
    "auth.set_access_token(Accesstoken, Accesssecret)"
   ]
  },
  {
   "cell_type": "code",
   "execution_count": 4,
   "metadata": {},
   "outputs": [],
   "source": [
    "api = tweepy.API(auth)"
   ]
  },
  {
   "cell_type": "markdown",
   "metadata": {},
   "source": [
    "## 2."
   ]
  },
  {
   "cell_type": "markdown",
   "metadata": {},
   "source": [
    "### listing the Twitter Directory to see which call methods can be used\n",
    "#### to get tweets and hashtags, use :\n",
    "* 'trends_available' \n",
    "* 'trends_closest'\n",
    "* 'trends_place'\n",
    "##### see usability for  'related_results'\n",
    "http://docs.tweepy.org/en/latest/api.html#API.search"
   ]
  },
  {
   "cell_type": "markdown",
   "metadata": {},
   "source": [
    "## 2.Extracting tweets and old tweets"
   ]
  },
  {
   "cell_type": "markdown",
   "metadata": {},
   "source": [
    "## As Twitter has a max of 1 week old tweets, decided to use the GetOldTweets3 library\n",
    "\n",
    "Python classes\n",
    "\n",
    "    Tweet: Model class that describes a specific tweet.\n",
    "        id (str)\n",
    "        permalink (str)\n",
    "        username (str)\n",
    "        to (str)\n",
    "        text (str)\n",
    "        date (datetime) in UTC\n",
    "        retweets (int)\n",
    "        favorites (int)\n",
    "        mentions (str)\n",
    "        hashtags (str)\n",
    "        geo (str)\n",
    "\n",
    "    TweetManager: A manager class to help getting tweets in Tweet's model.\n",
    "        getTweets (TwitterCriteria): Return the list of tweets retrieved by using an instance of TwitterCriteria.\n",
    "\n",
    "    TwitterCriteria: A collection of search parameters to be used together with TweetManager.\n",
    "        setUsername (str or iterable): An optional specific username(s) from a twitter account (with or without \"@\").\n",
    "        setSince (str. \"yyyy-mm-dd\"): A lower bound date (UTC) to restrict search.\n",
    "        setUntil (str. \"yyyy-mm-dd\"): An upper bound date (not included) to restrict search.\n",
    "        setQuerySearch (str): A query text to be matched.\n",
    "        setTopTweets (bool): If True only the Top Tweets will be retrieved.\n",
    "        setNear(str): A reference location area from where tweets were generated.\n",
    "        setWithin (str): A distance radius from \"near\" location (e.g. 15mi).\n",
    "        setMaxTweets (int): The maximum number of tweets to be retrieved. If this number is unsetted or lower than 1 all possible tweets will be retrieved.\n",
    "id \n",
    "permalinkusername\n",
    "to\n",
    "text\n",
    "date\n",
    "retweets\n",
    "favorites\n",
    "mentions\n",
    "hashtags\n",
    "geo\n"
   ]
  },
  {
   "cell_type": "code",
   "execution_count": 5,
   "metadata": {},
   "outputs": [
    {
     "name": "stdout",
     "output_type": "stream",
     "text": [
      "['__class__', '__delattr__', '__dict__', '__dir__', '__doc__', '__eq__', '__format__', '__ge__', '__getattribute__', '__gt__', '__hash__', '__init__', '__init_subclass__', '__le__', '__lt__', '__module__', '__ne__', '__new__', '__reduce__', '__reduce_ex__', '__repr__', '__setattr__', '__sizeof__', '__str__', '__subclasshook__', '__weakref__', 'author_id', 'date', 'favorites', 'formatted_date', 'geo', 'hashtags', 'id', 'mentions', 'permalink', 'replies', 'retweets', 'text', 'to', 'urls', 'username']\n",
      "{'username': 'PirateMomCG', 'to': None, 'text': 'Peach strawberry cobbler in the oven #cobbler #baking #quarantine15 #yum #saturnpeaches ', 'retweets': 0, 'favorites': 1, 'replies': 2, 'id': '1278116061108469760', 'permalink': 'https://twitter.com/PirateMomCG/status/1278116061108469760', 'author_id': 1160216723645194241, 'date': datetime.datetime(2020, 6, 30, 23, 59, 49, tzinfo=datetime.timezone.utc), 'formatted_date': 'Tue Jun 30 23:59:49 +0000 2020', 'hashtags': '#cobbler #baking #quarantine15 #yum #saturnpeaches', 'mentions': '', 'geo': '', 'urls': ''}\n"
     ]
    }
   ],
   "source": [
    "criteria = got.manager.TweetCriteria().setQuerySearch('#baking').setMaxTweets(1).setSince('2019-07-01').setUntil('2020-07-01')\n",
    "tweets = got.manager.TweetManager.getTweets(criteria)\n",
    "for tweet in tweets:\n",
    "    print(dir(tweet))\n",
    "    print(tweet.__dict__)"
   ]
  },
  {
   "cell_type": "code",
   "execution_count": 7,
   "metadata": {},
   "outputs": [],
   "source": [
    "criteria_jun = got.manager.TweetCriteria().setQuerySearch('#baking').setMaxTweets(20000).setSince('2020-06-01').setUntil('2020-06-30')\n",
    "\n",
    "tweets_jun = got.manager.TweetManager.getTweets(criteria_jun)\n",
    "    \n",
    "new_baking_Jun = [[\n",
    "                tweet.id, \n",
    "                tweet.username,\n",
    "                tweet.author_id,\n",
    "                tweet.text,\n",
    "                tweet.date,\n",
    "                tweet.geo,\n",
    "                tweet.hashtags,                \n",
    "                tweet.permalink,\n",
    "                    ] for tweet in tweets2]"
   ]
  },
  {
   "cell_type": "code",
   "execution_count": 44,
   "metadata": {},
   "outputs": [
    {
     "data": {
      "text/plain": [
       "14291"
      ]
     },
     "execution_count": 44,
     "metadata": {},
     "output_type": "execute_result"
    }
   ],
   "source": [
    "len(new_baking_Jun)"
   ]
  },
  {
   "cell_type": "code",
   "execution_count": 10,
   "metadata": {},
   "outputs": [],
   "source": [
    "criteria_july = got.manager.TweetCriteria().setQuerySearch('#baking').setMaxTweets(20000).setSince('2020-07-01').setUntil('2020-07-30')\n",
    "\n",
    "tweets_july = got.manager.TweetManager.getTweets(criteria_july)\n",
    "    \n",
    "new_baking_July = [[\n",
    "                tweet.id, \n",
    "                tweet.username,\n",
    "                tweet.author_id,\n",
    "                tweet.text,\n",
    "                tweet.date,\n",
    "                tweet.geo,\n",
    "                tweet.hashtags,                \n",
    "                tweet.permalink,\n",
    "                    ] for tweet in tweets_july]"
   ]
  },
  {
   "cell_type": "code",
   "execution_count": 45,
   "metadata": {},
   "outputs": [
    {
     "data": {
      "text/plain": [
       "13505"
      ]
     },
     "execution_count": 45,
     "metadata": {},
     "output_type": "execute_result"
    }
   ],
   "source": [
    "len(new_baking_July)"
   ]
  },
  {
   "cell_type": "code",
   "execution_count": 90,
   "metadata": {
    "scrolled": true
   },
   "outputs": [],
   "source": [
    "criteria_may = got.manager.TweetCriteria().setQuerySearch('#baking').setMaxTweets(10000).setSince('2020-05-01').setUntil('2020-05-31')\n",
    "\n",
    "tweets_may = got.manager.TweetManager.getTweets(criteria_may)\n",
    "    \n",
    "new_baking_may = [[\n",
    "                tweet.id, \n",
    "                tweet.username,\n",
    "                tweet.author_id,\n",
    "                tweet.date,\n",
    "                tweet.hashtags,                \n",
    "                    ] for tweet in tweets_may]"
   ]
  },
  {
   "cell_type": "code",
   "execution_count": 108,
   "metadata": {},
   "outputs": [],
   "source": [
    "criteria_may2 = got.manager.TweetCriteria().setQuerySearch('#baking').setMaxTweets(10000).setSince('2020-05-01').setUntil('2020-05-15')\n",
    "\n",
    "tweets_may2 = got.manager.TweetManager.getTweets(criteria_may2)\n",
    "    \n",
    "new_baking_may = [[\n",
    "                tweet.id, \n",
    "                tweet.username,\n",
    "                tweet.author_id,\n",
    "                tweet.date,\n",
    "                tweet.hashtags,                \n",
    "                    ] for tweet in tweets_may2]"
   ]
  },
  {
   "cell_type": "code",
   "execution_count": 115,
   "metadata": {},
   "outputs": [],
   "source": [
    "criteria_april3 = got.manager.TweetCriteria().setQuerySearch('#baking').setMaxTweets(30000).setSince('2020-04-15').setUntil('2020-04-30')\n",
    "\n",
    "tweets_april3 = got.manager.TweetManager.getTweets(criteria_april3)\n",
    "    \n",
    "new_baking_april3 = [[\n",
    "                tweet.id, \n",
    "                tweet.username,\n",
    "                tweet.author_id,\n",
    "                tweet.date,\n",
    "                tweet.hashtags,                \n",
    "                    ] for tweet in tweets_april3]"
   ]
  },
  {
   "cell_type": "code",
   "execution_count": 129,
   "metadata": {},
   "outputs": [
    {
     "data": {
      "text/html": [
       "<div>\n",
       "<style scoped>\n",
       "    .dataframe tbody tr th:only-of-type {\n",
       "        vertical-align: middle;\n",
       "    }\n",
       "\n",
       "    .dataframe tbody tr th {\n",
       "        vertical-align: top;\n",
       "    }\n",
       "\n",
       "    .dataframe thead th {\n",
       "        text-align: right;\n",
       "    }\n",
       "</style>\n",
       "<table border=\"1\" class=\"dataframe\">\n",
       "  <thead>\n",
       "    <tr style=\"text-align: right;\">\n",
       "      <th></th>\n",
       "      <th>id</th>\n",
       "      <th>username</th>\n",
       "      <th>author_id</th>\n",
       "      <th>date</th>\n",
       "      <th>hashtags</th>\n",
       "    </tr>\n",
       "  </thead>\n",
       "  <tbody>\n",
       "    <tr>\n",
       "      <th>0</th>\n",
       "      <td>1255646700586307585</td>\n",
       "      <td>steel_jo</td>\n",
       "      <td>400347976</td>\n",
       "      <td>2020-04-29 23:54:36+00:00</td>\n",
       "      <td>#baking #bananabread</td>\n",
       "    </tr>\n",
       "    <tr>\n",
       "      <th>1</th>\n",
       "      <td>1279090694313959431</td>\n",
       "      <td>flareaudio</td>\n",
       "      <td>177112193</td>\n",
       "      <td>2020-07-03 16:32:40+00:00</td>\n",
       "      <td></td>\n",
       "    </tr>\n",
       "    <tr>\n",
       "      <th>2</th>\n",
       "      <td>1255646153011539973</td>\n",
       "      <td>artistrobin</td>\n",
       "      <td>45180996</td>\n",
       "      <td>2020-04-29 23:52:26+00:00</td>\n",
       "      <td>#banana #walnut #semisweetchocolate #baking #m...</td>\n",
       "    </tr>\n",
       "    <tr>\n",
       "      <th>3</th>\n",
       "      <td>1255645189575593984</td>\n",
       "      <td>Squinn171</td>\n",
       "      <td>1126309536053256193</td>\n",
       "      <td>2020-04-29 23:48:36+00:00</td>\n",
       "      <td>#baking #cookies #yummy #chocolate</td>\n",
       "    </tr>\n",
       "    <tr>\n",
       "      <th>4</th>\n",
       "      <td>1255645101637820416</td>\n",
       "      <td>Chimbo43</td>\n",
       "      <td>2409215516</td>\n",
       "      <td>2020-04-29 23:48:15+00:00</td>\n",
       "      <td>#baking #robinhoodflour #sourdoughstarter #kim...</td>\n",
       "    </tr>\n",
       "    <tr>\n",
       "      <th>...</th>\n",
       "      <td>...</td>\n",
       "      <td>...</td>\n",
       "      <td>...</td>\n",
       "      <td>...</td>\n",
       "      <td>...</td>\n",
       "    </tr>\n",
       "    <tr>\n",
       "      <th>12437</th>\n",
       "      <td>1250218024952639488</td>\n",
       "      <td>UnaVerdandi</td>\n",
       "      <td>765900909641629696</td>\n",
       "      <td>2020-04-15 00:22:59+00:00</td>\n",
       "      <td>#bread #baking #homemade</td>\n",
       "    </tr>\n",
       "    <tr>\n",
       "      <th>12438</th>\n",
       "      <td>1250217649843449860</td>\n",
       "      <td>hungryasabear</td>\n",
       "      <td>108426968</td>\n",
       "      <td>2020-04-15 00:21:30+00:00</td>\n",
       "      <td>#baking #bread</td>\n",
       "    </tr>\n",
       "    <tr>\n",
       "      <th>12439</th>\n",
       "      <td>1250216938569113601</td>\n",
       "      <td>ghostcatbce</td>\n",
       "      <td>413514250</td>\n",
       "      <td>2020-04-15 00:18:40+00:00</td>\n",
       "      <td>#Food #Cooking #Baking #bread</td>\n",
       "    </tr>\n",
       "    <tr>\n",
       "      <th>12440</th>\n",
       "      <td>1250216350645202945</td>\n",
       "      <td>worldneedspie</td>\n",
       "      <td>116847589</td>\n",
       "      <td>2020-04-15 00:16:20+00:00</td>\n",
       "      <td>#Piestoliftyourspirits #freelessons #baking #q...</td>\n",
       "    </tr>\n",
       "    <tr>\n",
       "      <th>12441</th>\n",
       "      <td>1250214862724227073</td>\n",
       "      <td>PMonkey</td>\n",
       "      <td>16985721</td>\n",
       "      <td>2020-04-15 00:10:25+00:00</td>\n",
       "      <td>#bread #allthecarbs #chocolate #cornbread #but...</td>\n",
       "    </tr>\n",
       "  </tbody>\n",
       "</table>\n",
       "<p>12442 rows × 5 columns</p>\n",
       "</div>"
      ],
      "text/plain": [
       "                        id       username            author_id  \\\n",
       "0      1255646700586307585       steel_jo            400347976   \n",
       "1      1279090694313959431     flareaudio            177112193   \n",
       "2      1255646153011539973    artistrobin             45180996   \n",
       "3      1255645189575593984      Squinn171  1126309536053256193   \n",
       "4      1255645101637820416       Chimbo43           2409215516   \n",
       "...                    ...            ...                  ...   \n",
       "12437  1250218024952639488    UnaVerdandi   765900909641629696   \n",
       "12438  1250217649843449860  hungryasabear            108426968   \n",
       "12439  1250216938569113601    ghostcatbce            413514250   \n",
       "12440  1250216350645202945  worldneedspie            116847589   \n",
       "12441  1250214862724227073        PMonkey             16985721   \n",
       "\n",
       "                           date  \\\n",
       "0     2020-04-29 23:54:36+00:00   \n",
       "1     2020-07-03 16:32:40+00:00   \n",
       "2     2020-04-29 23:52:26+00:00   \n",
       "3     2020-04-29 23:48:36+00:00   \n",
       "4     2020-04-29 23:48:15+00:00   \n",
       "...                         ...   \n",
       "12437 2020-04-15 00:22:59+00:00   \n",
       "12438 2020-04-15 00:21:30+00:00   \n",
       "12439 2020-04-15 00:18:40+00:00   \n",
       "12440 2020-04-15 00:16:20+00:00   \n",
       "12441 2020-04-15 00:10:25+00:00   \n",
       "\n",
       "                                                hashtags  \n",
       "0                                   #baking #bananabread  \n",
       "1                                                         \n",
       "2      #banana #walnut #semisweetchocolate #baking #m...  \n",
       "3                     #baking #cookies #yummy #chocolate  \n",
       "4      #baking #robinhoodflour #sourdoughstarter #kim...  \n",
       "...                                                  ...  \n",
       "12437                           #bread #baking #homemade  \n",
       "12438                                     #baking #bread  \n",
       "12439                      #Food #Cooking #Baking #bread  \n",
       "12440  #Piestoliftyourspirits #freelessons #baking #q...  \n",
       "12441  #bread #allthecarbs #chocolate #cornbread #but...  \n",
       "\n",
       "[12442 rows x 5 columns]"
      ]
     },
     "execution_count": 129,
     "metadata": {},
     "output_type": "execute_result"
    }
   ],
   "source": [
    "df43=pd.DataFrame(new_baking_april3,columns = ['id','username','author_id','date','hashtags'])\n",
    "df43 "
   ]
  },
  {
   "cell_type": "code",
   "execution_count": 119,
   "metadata": {},
   "outputs": [],
   "source": [
    "criteria_april4 = got.manager.TweetCriteria().setQuerySearch('#baking').setMaxTweets(20000).setSince('2020-04-01').setUntil('2020-04-15')\n",
    "\n",
    "tweets_april4 = got.manager.TweetManager.getTweets(criteria_april4)\n",
    "    \n",
    "new_baking_april4 = [[\n",
    "                tweet.id, \n",
    "                tweet.username,\n",
    "                tweet.author_id,\n",
    "                tweet.date,\n",
    "                tweet.hashtags,                \n",
    "                    ] for tweet in tweets_april4]"
   ]
  },
  {
   "cell_type": "code",
   "execution_count": 127,
   "metadata": {},
   "outputs": [
    {
     "data": {
      "text/html": [
       "<div>\n",
       "<style scoped>\n",
       "    .dataframe tbody tr th:only-of-type {\n",
       "        vertical-align: middle;\n",
       "    }\n",
       "\n",
       "    .dataframe tbody tr th {\n",
       "        vertical-align: top;\n",
       "    }\n",
       "\n",
       "    .dataframe thead th {\n",
       "        text-align: right;\n",
       "    }\n",
       "</style>\n",
       "<table border=\"1\" class=\"dataframe\">\n",
       "  <thead>\n",
       "    <tr style=\"text-align: right;\">\n",
       "      <th></th>\n",
       "      <th>id</th>\n",
       "      <th>username</th>\n",
       "      <th>author_id</th>\n",
       "      <th>date</th>\n",
       "      <th>hashtags</th>\n",
       "    </tr>\n",
       "  </thead>\n",
       "  <tbody>\n",
       "    <tr>\n",
       "      <th>0</th>\n",
       "      <td>1250212237438058496</td>\n",
       "      <td>DistinctByN</td>\n",
       "      <td>1498985876</td>\n",
       "      <td>2020-04-14 23:59:59+00:00</td>\n",
       "      <td>#relief #spices #fantastic #Electric #Pepper #...</td>\n",
       "    </tr>\n",
       "    <tr>\n",
       "      <th>1</th>\n",
       "      <td>1279090694313959431</td>\n",
       "      <td>flareaudio</td>\n",
       "      <td>177112193</td>\n",
       "      <td>2020-07-03 16:32:40+00:00</td>\n",
       "      <td></td>\n",
       "    </tr>\n",
       "    <tr>\n",
       "      <th>2</th>\n",
       "      <td>1250210776901541889</td>\n",
       "      <td>jmpangburn</td>\n",
       "      <td>91463925</td>\n",
       "      <td>2020-04-14 23:54:11+00:00</td>\n",
       "      <td>#PhishDinnerAndAMovie #Phish #Grub #HomemadeSo...</td>\n",
       "    </tr>\n",
       "    <tr>\n",
       "      <th>3</th>\n",
       "      <td>1250206501114916864</td>\n",
       "      <td>GingerRoots4</td>\n",
       "      <td>1001274897958621184</td>\n",
       "      <td>2020-04-14 23:37:12+00:00</td>\n",
       "      <td>#bread #baking #food</td>\n",
       "    </tr>\n",
       "    <tr>\n",
       "      <th>4</th>\n",
       "      <td>1250206050994622465</td>\n",
       "      <td>Miz_Henny</td>\n",
       "      <td>1024920629357625344</td>\n",
       "      <td>2020-04-14 23:35:24+00:00</td>\n",
       "      <td>#Drag #Baking</td>\n",
       "    </tr>\n",
       "    <tr>\n",
       "      <th>...</th>\n",
       "      <td>...</td>\n",
       "      <td>...</td>\n",
       "      <td>...</td>\n",
       "      <td>...</td>\n",
       "      <td>...</td>\n",
       "    </tr>\n",
       "    <tr>\n",
       "      <th>12302</th>\n",
       "      <td>1245140938013339649</td>\n",
       "      <td>Louisepoppy</td>\n",
       "      <td>29171436</td>\n",
       "      <td>2020-04-01 00:08:27+00:00</td>\n",
       "      <td>#lunchwithlouise #baking #StayHomeNZ</td>\n",
       "    </tr>\n",
       "    <tr>\n",
       "      <th>12303</th>\n",
       "      <td>1245140579828277248</td>\n",
       "      <td>creativepumpkin</td>\n",
       "      <td>472778686</td>\n",
       "      <td>2020-04-01 00:07:02+00:00</td>\n",
       "      <td>#freebook #anxiety #covid #lockdown #selfhelp ...</td>\n",
       "    </tr>\n",
       "    <tr>\n",
       "      <th>12304</th>\n",
       "      <td>1245140137270542336</td>\n",
       "      <td>DellerzJ</td>\n",
       "      <td>1851269688</td>\n",
       "      <td>2020-04-01 00:05:16+00:00</td>\n",
       "      <td>#fudge #diabetescanada #diabetes #diabeticfrie...</td>\n",
       "    </tr>\n",
       "    <tr>\n",
       "      <th>12305</th>\n",
       "      <td>1245140091619721217</td>\n",
       "      <td>4AgForLife</td>\n",
       "      <td>614621696</td>\n",
       "      <td>2020-04-01 00:05:06+00:00</td>\n",
       "      <td>#stayhome #stayhome #aflhomecooking #breadbaki...</td>\n",
       "    </tr>\n",
       "    <tr>\n",
       "      <th>12306</th>\n",
       "      <td>1245139772705824769</td>\n",
       "      <td>thesawch</td>\n",
       "      <td>55680306</td>\n",
       "      <td>2020-04-01 00:03:50+00:00</td>\n",
       "      <td>#score #yeast #baking</td>\n",
       "    </tr>\n",
       "  </tbody>\n",
       "</table>\n",
       "<p>12307 rows × 5 columns</p>\n",
       "</div>"
      ],
      "text/plain": [
       "                        id         username            author_id  \\\n",
       "0      1250212237438058496      DistinctByN           1498985876   \n",
       "1      1279090694313959431       flareaudio            177112193   \n",
       "2      1250210776901541889       jmpangburn             91463925   \n",
       "3      1250206501114916864     GingerRoots4  1001274897958621184   \n",
       "4      1250206050994622465        Miz_Henny  1024920629357625344   \n",
       "...                    ...              ...                  ...   \n",
       "12302  1245140938013339649      Louisepoppy             29171436   \n",
       "12303  1245140579828277248  creativepumpkin            472778686   \n",
       "12304  1245140137270542336         DellerzJ           1851269688   \n",
       "12305  1245140091619721217       4AgForLife            614621696   \n",
       "12306  1245139772705824769         thesawch             55680306   \n",
       "\n",
       "                           date  \\\n",
       "0     2020-04-14 23:59:59+00:00   \n",
       "1     2020-07-03 16:32:40+00:00   \n",
       "2     2020-04-14 23:54:11+00:00   \n",
       "3     2020-04-14 23:37:12+00:00   \n",
       "4     2020-04-14 23:35:24+00:00   \n",
       "...                         ...   \n",
       "12302 2020-04-01 00:08:27+00:00   \n",
       "12303 2020-04-01 00:07:02+00:00   \n",
       "12304 2020-04-01 00:05:16+00:00   \n",
       "12305 2020-04-01 00:05:06+00:00   \n",
       "12306 2020-04-01 00:03:50+00:00   \n",
       "\n",
       "                                                hashtags  \n",
       "0      #relief #spices #fantastic #Electric #Pepper #...  \n",
       "1                                                         \n",
       "2      #PhishDinnerAndAMovie #Phish #Grub #HomemadeSo...  \n",
       "3                                   #bread #baking #food  \n",
       "4                                          #Drag #Baking  \n",
       "...                                                  ...  \n",
       "12302               #lunchwithlouise #baking #StayHomeNZ  \n",
       "12303  #freebook #anxiety #covid #lockdown #selfhelp ...  \n",
       "12304  #fudge #diabetescanada #diabetes #diabeticfrie...  \n",
       "12305  #stayhome #stayhome #aflhomecooking #breadbaki...  \n",
       "12306                              #score #yeast #baking  \n",
       "\n",
       "[12307 rows x 5 columns]"
      ]
     },
     "execution_count": 127,
     "metadata": {},
     "output_type": "execute_result"
    }
   ],
   "source": [
    "df34=pd.DataFrame(new_baking_april4,columns = ['id','username','author_id','date','hashtags'])\n",
    "df34 "
   ]
  },
  {
   "cell_type": "code",
   "execution_count": null,
   "metadata": {},
   "outputs": [],
   "source": []
  },
  {
   "cell_type": "code",
   "execution_count": 23,
   "metadata": {},
   "outputs": [],
   "source": [
    "criteria_mar = got.manager.TweetCriteria().setQuerySearch('#baking').setMaxTweets(20000).setSince('2020-03-01').setUntil('2020-03-31')\n",
    "\n",
    "tweets_mar = got.manager.TweetManager.getTweets(criteria_mar)\n",
    "    \n",
    "new_baking_mar = [[\n",
    "                tweet.id, \n",
    "                tweet.username,\n",
    "                tweet.author_id,\n",
    "                tweet.text,\n",
    "                tweet.date,\n",
    "                tweet.geo,\n",
    "                tweet.hashtags,                \n",
    "                tweet.permalink,\n",
    "                    ] for tweet in tweets_mar]"
   ]
  },
  {
   "cell_type": "code",
   "execution_count": 36,
   "metadata": {},
   "outputs": [],
   "source": [
    "criteria_feb = got.manager.TweetCriteria().setQuerySearch('#baking').setMaxTweets(20000).setSince('2020-02-01').setUntil('2020-02-29')\n",
    "\n",
    "tweets_feb = got.manager.TweetManager.getTweets(criteria_feb)\n",
    "    \n",
    "new_baking_feb = [[\n",
    "                tweet.id, \n",
    "                tweet.username,\n",
    "                tweet.author_id,\n",
    "                tweet.text,\n",
    "                tweet.date,\n",
    "                tweet.geo,\n",
    "                tweet.hashtags,                \n",
    "                tweet.permalink,\n",
    "                    ] for tweet in tweets_feb]"
   ]
  },
  {
   "cell_type": "code",
   "execution_count": null,
   "metadata": {},
   "outputs": [],
   "source": []
  },
  {
   "cell_type": "code",
   "execution_count": 21,
   "metadata": {},
   "outputs": [],
   "source": [
    "criteria_jan = got.manager.TweetCriteria().setQuerySearch('#baking').setMaxTweets(20000).setSince('2020-01-01').setUntil('2020-01-31')\n",
    "\n",
    "tweets_jan = got.manager.TweetManager.getTweets(criteria_jan)\n",
    "    \n",
    "new_baking_jan = [[\n",
    "                tweet.id, \n",
    "                tweet.username,\n",
    "                tweet.author_id,\n",
    "                tweet.text,\n",
    "                tweet.date,\n",
    "                tweet.geo,\n",
    "                tweet.hashtags,                \n",
    "                tweet.permalink,\n",
    "                    ] for tweet in tweets_jan]"
   ]
  },
  {
   "cell_type": "code",
   "execution_count": 37,
   "metadata": {},
   "outputs": [
    {
     "data": {
      "text/plain": [
       "8598"
      ]
     },
     "execution_count": 37,
     "metadata": {},
     "output_type": "execute_result"
    }
   ],
   "source": [
    "len(new_baking_jan)"
   ]
  },
  {
   "cell_type": "code",
   "execution_count": 134,
   "metadata": {},
   "outputs": [],
   "source": [
    "df1=pd.DataFrame(new_baking_jan,columns = ['id','username','author_id','text','date','geo','hashtags','permalink']).drop(columns=['permalink','text','geo'])\n",
    "df2=pd.DataFrame(new_baking_feb,columns = ['id','username','author_id','text','date','geo','hashtags','permalink']).drop(columns=['permalink','text','geo'])\n",
    "df3=pd.DataFrame(new_baking_mar,columns = ['id','username','author_id','text','date','geo','hashtags','permalink']).drop(columns=['permalink','text','geo'])\n",
    "df43=pd.DataFrame(new_baking_april3,columns = ['id','username','author_id','date','hashtags'])\n",
    "df42=pd.DataFrame(new_baking_april4,columns = ['id','username','author_id','date','hashtags'])\n",
    "df5=pd.DataFrame(new_baking_may,columns = ['id','username','author_id','date','hashtags'])\n",
    "df6=pd.DataFrame(new_baking_Jun,columns = ['id','username','author_id','text','date','geo','hashtags','permalink']).drop(columns=['permalink','text','geo'])\n",
    "df7=pd.DataFrame(new_baking_July,columns = ['id','username','author_id','text','date','geo','hashtags','permalink']).drop(columns=['permalink','text','geo'])"
   ]
  },
  {
   "cell_type": "code",
   "execution_count": 4,
   "metadata": {},
   "outputs": [
    {
     "ename": "NameError",
     "evalue": "name 'df1' is not defined",
     "output_type": "error",
     "traceback": [
      "\u001b[1;31m---------------------------------------------------------------------------\u001b[0m",
      "\u001b[1;31mNameError\u001b[0m                                 Traceback (most recent call last)",
      "\u001b[1;32m<ipython-input-4-38e4a632f561>\u001b[0m in \u001b[0;36m<module>\u001b[1;34m\u001b[0m\n\u001b[1;32m----> 1\u001b[1;33m \u001b[0mBIG_BOI\u001b[0m\u001b[1;33m=\u001b[0m\u001b[0mpd\u001b[0m\u001b[1;33m.\u001b[0m\u001b[0mconcat\u001b[0m\u001b[1;33m(\u001b[0m\u001b[1;33m[\u001b[0m\u001b[0mdf1\u001b[0m\u001b[1;33m,\u001b[0m\u001b[0mdf2\u001b[0m\u001b[1;33m,\u001b[0m\u001b[0mdf3\u001b[0m\u001b[1;33m,\u001b[0m\u001b[0mdf43\u001b[0m\u001b[1;33m,\u001b[0m\u001b[0mdf42\u001b[0m\u001b[1;33m,\u001b[0m\u001b[0mdf5\u001b[0m\u001b[1;33m,\u001b[0m\u001b[0mdf6\u001b[0m\u001b[1;33m,\u001b[0m\u001b[0mdf7\u001b[0m\u001b[1;33m]\u001b[0m\u001b[1;33m,\u001b[0m\u001b[0maxis\u001b[0m\u001b[1;33m=\u001b[0m\u001b[1;36m0\u001b[0m\u001b[1;33m)\u001b[0m\u001b[1;33m\u001b[0m\u001b[1;33m\u001b[0m\u001b[0m\n\u001b[0m",
      "\u001b[1;31mNameError\u001b[0m: name 'df1' is not defined"
     ]
    }
   ],
   "source": [
    "BIG_BOI=pd.concat([df1,df2,df3,df43,df42,df5,df6,df7],axis=0)"
   ]
  },
  {
   "cell_type": "code",
   "execution_count": 143,
   "metadata": {},
   "outputs": [
    {
     "data": {
      "text/html": [
       "<div>\n",
       "<style scoped>\n",
       "    .dataframe tbody tr th:only-of-type {\n",
       "        vertical-align: middle;\n",
       "    }\n",
       "\n",
       "    .dataframe tbody tr th {\n",
       "        vertical-align: top;\n",
       "    }\n",
       "\n",
       "    .dataframe thead th {\n",
       "        text-align: right;\n",
       "    }\n",
       "</style>\n",
       "<table border=\"1\" class=\"dataframe\">\n",
       "  <thead>\n",
       "    <tr style=\"text-align: right;\">\n",
       "      <th></th>\n",
       "      <th>id</th>\n",
       "      <th>username</th>\n",
       "      <th>author_id</th>\n",
       "      <th>date</th>\n",
       "      <th>hashtags</th>\n",
       "    </tr>\n",
       "  </thead>\n",
       "  <tbody>\n",
       "    <tr>\n",
       "      <th>0</th>\n",
       "      <td>1223031594417520641</td>\n",
       "      <td>BrendanKLieb</td>\n",
       "      <td>839211273598435328</td>\n",
       "      <td>2020-01-30 23:53:49+00:00</td>\n",
       "      <td>#baking #cranberries #chocolate #dessert #cake</td>\n",
       "    </tr>\n",
       "    <tr>\n",
       "      <th>1</th>\n",
       "      <td>1279090694313959431</td>\n",
       "      <td>flareaudio</td>\n",
       "      <td>177112193</td>\n",
       "      <td>2020-07-03 16:32:40+00:00</td>\n",
       "      <td></td>\n",
       "    </tr>\n",
       "    <tr>\n",
       "      <th>2</th>\n",
       "      <td>1223030671469400066</td>\n",
       "      <td>BnBFinder</td>\n",
       "      <td>14981476</td>\n",
       "      <td>2020-01-30 23:50:09+00:00</td>\n",
       "      <td>#NationalCroissantDay #pastries #foodie #baking</td>\n",
       "    </tr>\n",
       "    <tr>\n",
       "      <th>3</th>\n",
       "      <td>1223025611385573376</td>\n",
       "      <td>elanaspantry</td>\n",
       "      <td>14213226</td>\n",
       "      <td>2020-01-30 23:30:03+00:00</td>\n",
       "      <td>#paleo #baking #glutenfree #grainfree</td>\n",
       "    </tr>\n",
       "    <tr>\n",
       "      <th>4</th>\n",
       "      <td>1223024823833628672</td>\n",
       "      <td>goulashriot</td>\n",
       "      <td>22596191</td>\n",
       "      <td>2020-01-30 23:26:55+00:00</td>\n",
       "      <td>#pastry #pastrychef #baking #baker #food #bana...</td>\n",
       "    </tr>\n",
       "    <tr>\n",
       "      <th>...</th>\n",
       "      <td>...</td>\n",
       "      <td>...</td>\n",
       "      <td>...</td>\n",
       "      <td>...</td>\n",
       "      <td>...</td>\n",
       "    </tr>\n",
       "    <tr>\n",
       "      <th>13500</th>\n",
       "      <td>1278124761613099008</td>\n",
       "      <td>JESSee_IBARRA</td>\n",
       "      <td>910200119399661568</td>\n",
       "      <td>2020-07-01 00:34:24+00:00</td>\n",
       "      <td>#bread #rd2be #carrots #banana #baking #food</td>\n",
       "    </tr>\n",
       "    <tr>\n",
       "      <th>13501</th>\n",
       "      <td>1278124484080349184</td>\n",
       "      <td>EldreB</td>\n",
       "      <td>88239119</td>\n",
       "      <td>2020-07-01 00:33:18+00:00</td>\n",
       "      <td>#hokkaidomilkbread #milkbread #milkbuns #bakin...</td>\n",
       "    </tr>\n",
       "    <tr>\n",
       "      <th>13502</th>\n",
       "      <td>1278121963920203776</td>\n",
       "      <td>interestinfeed</td>\n",
       "      <td>1248604633859158016</td>\n",
       "      <td>2020-07-01 00:23:17+00:00</td>\n",
       "      <td>#brownies #chewy #chocolate #fudge #cake #food...</td>\n",
       "    </tr>\n",
       "    <tr>\n",
       "      <th>13503</th>\n",
       "      <td>1278117471162118154</td>\n",
       "      <td>Momleficent_</td>\n",
       "      <td>947574512299728906</td>\n",
       "      <td>2020-07-01 00:05:26+00:00</td>\n",
       "      <td>#momlife #mumlife #workingmom #workingmum #coo...</td>\n",
       "    </tr>\n",
       "    <tr>\n",
       "      <th>13504</th>\n",
       "      <td>1278117185580339200</td>\n",
       "      <td>PirateMomCG</td>\n",
       "      <td>1160216723645194241</td>\n",
       "      <td>2020-07-01 00:04:17+00:00</td>\n",
       "      <td>#cobbler #baking #quarantine15</td>\n",
       "    </tr>\n",
       "  </tbody>\n",
       "</table>\n",
       "<p>86893 rows × 5 columns</p>\n",
       "</div>"
      ],
      "text/plain": [
       "                        id        username            author_id  \\\n",
       "0      1223031594417520641    BrendanKLieb   839211273598435328   \n",
       "1      1279090694313959431      flareaudio            177112193   \n",
       "2      1223030671469400066       BnBFinder             14981476   \n",
       "3      1223025611385573376    elanaspantry             14213226   \n",
       "4      1223024823833628672     goulashriot             22596191   \n",
       "...                    ...             ...                  ...   \n",
       "13500  1278124761613099008   JESSee_IBARRA   910200119399661568   \n",
       "13501  1278124484080349184          EldreB             88239119   \n",
       "13502  1278121963920203776  interestinfeed  1248604633859158016   \n",
       "13503  1278117471162118154    Momleficent_   947574512299728906   \n",
       "13504  1278117185580339200     PirateMomCG  1160216723645194241   \n",
       "\n",
       "                           date  \\\n",
       "0     2020-01-30 23:53:49+00:00   \n",
       "1     2020-07-03 16:32:40+00:00   \n",
       "2     2020-01-30 23:50:09+00:00   \n",
       "3     2020-01-30 23:30:03+00:00   \n",
       "4     2020-01-30 23:26:55+00:00   \n",
       "...                         ...   \n",
       "13500 2020-07-01 00:34:24+00:00   \n",
       "13501 2020-07-01 00:33:18+00:00   \n",
       "13502 2020-07-01 00:23:17+00:00   \n",
       "13503 2020-07-01 00:05:26+00:00   \n",
       "13504 2020-07-01 00:04:17+00:00   \n",
       "\n",
       "                                                hashtags  \n",
       "0         #baking #cranberries #chocolate #dessert #cake  \n",
       "1                                                         \n",
       "2        #NationalCroissantDay #pastries #foodie #baking  \n",
       "3                  #paleo #baking #glutenfree #grainfree  \n",
       "4      #pastry #pastrychef #baking #baker #food #bana...  \n",
       "...                                                  ...  \n",
       "13500       #bread #rd2be #carrots #banana #baking #food  \n",
       "13501  #hokkaidomilkbread #milkbread #milkbuns #bakin...  \n",
       "13502  #brownies #chewy #chocolate #fudge #cake #food...  \n",
       "13503  #momlife #mumlife #workingmom #workingmum #coo...  \n",
       "13504                     #cobbler #baking #quarantine15  \n",
       "\n",
       "[86893 rows x 5 columns]"
      ]
     },
     "execution_count": 143,
     "metadata": {},
     "output_type": "execute_result"
    }
   ],
   "source": [
    "BIG_BOI"
   ]
  },
  {
   "cell_type": "code",
   "execution_count": 3,
   "metadata": {},
   "outputs": [
    {
     "ename": "NameError",
     "evalue": "name 'BIG_BOI' is not defined",
     "output_type": "error",
     "traceback": [
      "\u001b[1;31m---------------------------------------------------------------------------\u001b[0m",
      "\u001b[1;31mNameError\u001b[0m                                 Traceback (most recent call last)",
      "\u001b[1;32m<ipython-input-3-a3013b567804>\u001b[0m in \u001b[0;36m<module>\u001b[1;34m\u001b[0m\n\u001b[1;32m----> 1\u001b[1;33m \u001b[0mpd\u001b[0m\u001b[1;33m.\u001b[0m\u001b[0mDataFrame\u001b[0m\u001b[1;33m.\u001b[0m\u001b[0mto_csv\u001b[0m\u001b[1;33m(\u001b[0m\u001b[0mBIG_BOI\u001b[0m\u001b[1;33m,\u001b[0m\u001b[1;34mr'../Data/BIG_BOI.csv'\u001b[0m\u001b[1;33m)\u001b[0m\u001b[1;33m\u001b[0m\u001b[1;33m\u001b[0m\u001b[0m\n\u001b[0m",
      "\u001b[1;31mNameError\u001b[0m: name 'BIG_BOI' is not defined"
     ]
    }
   ],
   "source": [
    "pd.DataFrame.to_csv(BIG_BOI,r'../Data/BIG_BOI.csv')"
   ]
  },
  {
   "cell_type": "code",
   "execution_count": null,
   "metadata": {},
   "outputs": [],
   "source": []
  },
  {
   "cell_type": "code",
   "execution_count": null,
   "metadata": {},
   "outputs": [],
   "source": []
  },
  {
   "cell_type": "code",
   "execution_count": null,
   "metadata": {},
   "outputs": [],
   "source": []
  },
  {
   "cell_type": "code",
   "execution_count": null,
   "metadata": {},
   "outputs": [],
   "source": []
  },
  {
   "cell_type": "code",
   "execution_count": null,
   "metadata": {},
   "outputs": [],
   "source": []
  },
  {
   "cell_type": "code",
   "execution_count": null,
   "metadata": {},
   "outputs": [],
   "source": []
  },
  {
   "cell_type": "code",
   "execution_count": null,
   "metadata": {},
   "outputs": [],
   "source": []
  }
 ],
 "metadata": {
  "kernelspec": {
   "display_name": "Python 3",
   "language": "python",
   "name": "python3"
  },
  "language_info": {
   "codemirror_mode": {
    "name": "ipython",
    "version": 3
   },
   "file_extension": ".py",
   "mimetype": "text/x-python",
   "name": "python",
   "nbconvert_exporter": "python",
   "pygments_lexer": "ipython3",
   "version": "3.8.3"
  }
 },
 "nbformat": 4,
 "nbformat_minor": 4
}
